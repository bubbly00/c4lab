{
 "cells": [
  {
   "cell_type": "code",
   "execution_count": 1,
   "metadata": {
    "id": "ylb2zp-TXx17"
   },
   "outputs": [],
   "source": [
    "!pip install deap --quiet"
   ]
  },
  {
   "cell_type": "code",
   "execution_count": 2,
   "metadata": {
    "id": "gOZMbL4SYZGo"
   },
   "outputs": [],
   "source": [
    "import random\n",
    "import numpy as np\n",
    "from deap import base, creator, tools, algorithms"
   ]
  },
  {
   "cell_type": "code",
   "execution_count": 3,
   "metadata": {
    "id": "glYCEE3eYZEh"
   },
   "outputs": [],
   "source": [
    "# Define the evaluation function (Rastrigin function)\n",
    "def eval_rastrigin(individual):\n",
    "    A = 10\n",
    "    return A * len(individual) + sum([(x ** 2 - A * np.cos(2 * np.pi * x)) for x in individual]),"
   ]
  },
  {
   "cell_type": "code",
   "execution_count": 4,
   "metadata": {
    "id": "OOjrMmLNYY_1"
   },
   "outputs": [],
   "source": [
    "# Create the DEAP types\n",
    "creator.create(\"FitnessMin\", base.Fitness, weights=(-1.0,))\n",
    "creator.create(\"Individual\", list, fitness=creator.FitnessMin)\n",
    "\n",
    "# Initialize the DEAP toolbox\n",
    "toolbox = base.Toolbox()"
   ]
  },
  {
   "cell_type": "code",
   "execution_count": 5,
   "metadata": {
    "id": "HuoTW6hHYezO"
   },
   "outputs": [],
   "source": [
    "# Register the necessary functions to create individuals and populations\n",
    "toolbox.register(\"attr_float\", random.uniform, -5.12, 5.12)\n",
    "toolbox.register(\"individual\", tools.initRepeat, creator.Individual, toolbox.attr_float, n=10)\n",
    "toolbox.register(\"population\", tools.initRepeat, list, toolbox.individual)\n",
    "\n",
    "# Register the evaluation function\n",
    "toolbox.register(\"evaluate\", eval_rastrigin)\n",
    "\n",
    "# Register the crossover operator\n",
    "toolbox.register(\"mate\", tools.cxBlend, alpha=0.5)\n",
    "\n",
    "# Register the mutation operator\n",
    "toolbox.register(\"mutate\", tools.mutGaussian, mu=0, sigma=0.5, indpb=0.1)\n",
    "\n",
    "# Register the selection operator\n",
    "toolbox.register(\"select\", tools.selTournament, tournsize=3)"
   ]
  },
  {
   "cell_type": "code",
   "execution_count": 6,
   "metadata": {
    "colab": {
     "base_uri": "https://localhost:8080/"
    },
    "id": "JeOsOX1CYevn",
    "outputId": "23b95f96-332a-4b8f-994a-5e7f13b35ff5",
    "scrolled": true
   },
   "outputs": [
    {
     "name": "stdout",
     "output_type": "stream",
     "text": [
      "gen\tnevals\n",
      "0  \t50    \n",
      "1  \t34    \n",
      "2  \t28    \n",
      "3  \t25    \n",
      "4  \t26    \n",
      "5  \t32    \n",
      "6  \t25    \n",
      "7  \t40    \n",
      "8  \t33    \n",
      "9  \t25    \n",
      "10 \t36    \n",
      "11 \t24    \n",
      "12 \t27    \n",
      "13 \t31    \n",
      "14 \t31    \n",
      "15 \t34    \n",
      "16 \t30    \n",
      "17 \t20    \n",
      "18 \t21    \n",
      "19 \t33    \n",
      "20 \t29    \n",
      "21 \t32    \n",
      "22 \t29    \n",
      "23 \t30    \n",
      "24 \t28    \n",
      "25 \t39    \n",
      "26 \t35    \n",
      "27 \t34    \n",
      "28 \t27    \n",
      "29 \t30    \n",
      "30 \t31    \n",
      "31 \t21    \n",
      "32 \t32    \n",
      "33 \t33    \n",
      "34 \t30    \n",
      "35 \t33    \n",
      "36 \t23    \n",
      "37 \t26    \n",
      "38 \t27    \n",
      "39 \t24    \n",
      "40 \t29    \n",
      "41 \t26    \n",
      "42 \t27    \n",
      "43 \t27    \n",
      "44 \t30    \n",
      "45 \t27    \n",
      "46 \t32    \n",
      "47 \t26    \n",
      "48 \t28    \n",
      "49 \t35    \n",
      "50 \t27    \n",
      "51 \t25    \n",
      "52 \t36    \n",
      "53 \t37    \n",
      "54 \t25    \n",
      "55 \t28    \n",
      "56 \t28    \n",
      "57 \t23    \n",
      "58 \t38    \n",
      "59 \t35    \n",
      "60 \t29    \n",
      "61 \t27    \n",
      "62 \t27    \n",
      "63 \t30    \n",
      "64 \t22    \n",
      "65 \t27    \n",
      "66 \t34    \n",
      "67 \t28    \n",
      "68 \t20    \n",
      "69 \t32    \n",
      "70 \t28    \n",
      "71 \t25    \n",
      "72 \t30    \n",
      "73 \t28    \n",
      "74 \t28    \n",
      "75 \t27    \n",
      "76 \t31    \n",
      "77 \t20    \n",
      "78 \t34    \n",
      "79 \t31    \n",
      "80 \t29    \n",
      "81 \t31    \n",
      "82 \t33    \n",
      "83 \t24    \n",
      "84 \t29    \n",
      "85 \t29    \n",
      "86 \t32    \n",
      "87 \t28    \n",
      "88 \t28    \n",
      "89 \t22    \n",
      "90 \t22    \n",
      "91 \t27    \n",
      "92 \t28    \n",
      "93 \t32    \n",
      "94 \t33    \n",
      "95 \t22    \n",
      "96 \t25    \n",
      "97 \t32    \n",
      "98 \t20    \n",
      "99 \t26    \n",
      "100\t31    \n",
      "Best individual: [0.9761368487626183, 0.9853890176402268, -0.00048499761810015627, -0.002324134711238739, 0.00538986161708568, 1.0004119613784754, 2.000798620187425, 0.9906154371764125, -0.012723360933872734, 0.9936450772707015]\n",
      "Best fitness: 9.115297622774435\n"
     ]
    }
   ],
   "source": [
    "if __name__ == \"__main__\":\n",
    "    # Create a parallel evaluation function\n",
    "    toolbox.register(\"map\", map)\n",
    "\n",
    "    # Create an initial population\n",
    "    pop = toolbox.population(n=50)\n",
    "\n",
    "    # Run the genetic algorithm\n",
    "    algorithms.eaSimple(pop, toolbox, cxpb=0.5, mutpb=0.2, ngen=100, verbose=True)\n",
    "\n",
    "    # Print the best individual found\n",
    "    best_ind = tools.selBest(pop, 1)[0]\n",
    "    print(\"Best individual:\", best_ind)\n",
    "    print(\"Best fitness:\", best_ind.fitness.values[0])"
   ]
  },
  {
   "cell_type": "markdown",
   "metadata": {},
   "source": [
    "`nevals` This represents the number of evaluations performed in the current generation.\n",
    "\n",
    "`nevals` value fluctuates over time, sometimes decreasing and sometimes increasing. This behavior can occur due to several reasons like Selection Pressure, Crossover and Mutation Rates, Population Size, Convergence"
   ]
  },
  {
   "cell_type": "markdown",
   "metadata": {},
   "source": [
    "The best individual is represented as a list of floating-point numbers. Each element in the list corresponds to a decision variable in the optimization problem. In this case, it seems to be a 10-dimensional problem, as there are 10 values in the list.\n",
    "For example, the first value (-0.002661235566315999) may represent the value of the first decision variable, the second value (1.0049255548422598) may represent the value of the second decision variable, and so on."
   ]
  }
 ],
 "metadata": {
  "colab": {
   "provenance": []
  },
  "kernelspec": {
   "display_name": "Python 3 (ipykernel)",
   "language": "python",
   "name": "python3"
  },
  "language_info": {
   "codemirror_mode": {
    "name": "ipython",
    "version": 3
   },
   "file_extension": ".py",
   "mimetype": "text/x-python",
   "name": "python",
   "nbconvert_exporter": "python",
   "pygments_lexer": "ipython3",
   "version": "3.8.18"
  }
 },
 "nbformat": 4,
 "nbformat_minor": 1
}
