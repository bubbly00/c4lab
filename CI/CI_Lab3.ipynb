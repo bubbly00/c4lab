{
 "cells": [
  {
   "cell_type": "code",
   "execution_count": 1,
   "metadata": {
    "id": "zyQqC_PHZMkX"
   },
   "outputs": [],
   "source": [
    "# Sample weather data (year: temperature)\n",
    "weather_data = {\n",
    "    2010: 20,\n",
    "    2011: 25,\n",
    "    2012: 18,\n",
    "    2013: 30,\n",
    "    2014: 22,\n",
    "    2015: 32,\n",
    "    2016: 17,\n",
    "    2017: 28,\n",
    "    2018: 35,\n",
    "    2019: 19\n",
    "}"
   ]
  },
  {
   "cell_type": "code",
   "execution_count": 2,
   "metadata": {
    "id": "LhP4re1KZMm-"
   },
   "outputs": [],
   "source": [
    "def map_function(data):\n",
    "    result = []\n",
    "    for year, temp in data.items():\n",
    "        result.append((year, temp))\n",
    "    return result"
   ]
  },
  {
   "cell_type": "code",
   "execution_count": 3,
   "metadata": {
    "id": "RgI9kbWvZMpj"
   },
   "outputs": [],
   "source": [
    "def reduce_function(mapped_data):\n",
    "    if not mapped_data:\n",
    "        return None, None\n",
    "\n",
    "    min_temp = float('inf')\n",
    "    max_temp = float('-inf')\n",
    "    coolest_year = None\n",
    "    hottest_year = None\n",
    "\n",
    "    for year, temp in mapped_data:\n",
    "        if temp < min_temp:\n",
    "            min_temp = temp\n",
    "            coolest_year = year\n",
    "        if temp > max_temp:\n",
    "            max_temp = temp\n",
    "            hottest_year = year\n",
    "\n",
    "    return coolest_year, hottest_year"
   ]
  },
  {
   "cell_type": "code",
   "execution_count": 4,
   "metadata": {
    "colab": {
     "base_uri": "https://localhost:8080/"
    },
    "id": "T5E77eBpZMr-",
    "outputId": "68cb33e2-d775-4bf1-d060-04e227f4c580"
   },
   "outputs": [
    {
     "name": "stdout",
     "output_type": "stream",
     "text": [
      "Coolest Year: 2016\n",
      "Hottest Year: 2018\n"
     ]
    }
   ],
   "source": [
    "# Map phase\n",
    "mapped_data = map_function(weather_data)\n",
    "\n",
    "# Reduce phase\n",
    "coolest_year, hottest_year = reduce_function(mapped_data)\n",
    "\n",
    "print(\"Coolest Year:\", coolest_year)\n",
    "print(\"Hottest Year:\", hottest_year)"
   ]
  }
 ],
 "metadata": {
  "colab": {
   "provenance": []
  },
  "kernelspec": {
   "display_name": "Python 3 (ipykernel)",
   "language": "python",
   "name": "python3"
  },
  "language_info": {
   "codemirror_mode": {
    "name": "ipython",
    "version": 3
   },
   "file_extension": ".py",
   "mimetype": "text/x-python",
   "name": "python",
   "nbconvert_exporter": "python",
   "pygments_lexer": "ipython3",
   "version": "3.8.18"
  }
 },
 "nbformat": 4,
 "nbformat_minor": 1
}
