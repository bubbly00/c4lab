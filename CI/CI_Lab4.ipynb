{
 "cells": [
  {
   "cell_type": "code",
   "execution_count": 1,
   "metadata": {},
   "outputs": [],
   "source": [
    "import numpy as np\n",
    "import matplotlib.pyplot as plt"
   ]
  },
  {
   "cell_type": "code",
   "execution_count": 2,
   "metadata": {},
   "outputs": [],
   "source": [
    "class AntColony:\n",
    "    def __init__(self, distance_matrix, num_ants, num_iterations, alpha=1, beta=2, rho=0.5, q=1):\n",
    "        self.distance_matrix = distance_matrix\n",
    "        self.num_cities = len(distance_matrix)\n",
    "        self.num_ants = num_ants\n",
    "        self.num_iterations = num_iterations\n",
    "        self.alpha = alpha  # Pheromone factor\n",
    "        self.beta = beta  # Heuristic factor\n",
    "        self.rho = rho  # Pheromone evaporation rate\n",
    "        self.q = q  # Pheromone deposit factor\n",
    "\n",
    "        # Initialize pheromone levels\n",
    "        self.pheromone = np.ones((self.num_cities, self.num_cities))\n",
    "        np.fill_diagonal(self.pheromone, 0)  # No pheromone on diagonal (no self loops)\n",
    "\n",
    "        # Initialize best tour\n",
    "        self.best_tour = None\n",
    "        self.best_tour_length = np.inf\n",
    "\n",
    "    def run(self):\n",
    "        for i in range(self.num_iterations):\n",
    "            all_tours = self.construct_solutions()\n",
    "            self.update_pheromones(all_tours)\n",
    "\n",
    "            # Update best tour\n",
    "            for tour in all_tours:\n",
    "                tour_length = self.get_tour_length(tour)\n",
    "                if tour_length < self.best_tour_length:\n",
    "                    self.best_tour_length = tour_length\n",
    "                    self.best_tour = tour\n",
    "\n",
    "        return self.best_tour, self.best_tour_length\n",
    "\n",
    "    def construct_solutions(self):\n",
    "        all_tours = []\n",
    "        for _ in range(self.num_ants):\n",
    "            tour = self.construct_solution()\n",
    "            all_tours.append(tour)\n",
    "        return all_tours\n",
    "\n",
    "    def construct_solution(self):\n",
    "        tour = [0]  # Start from city 0\n",
    "        remaining_cities = set(range(1, self.num_cities))\n",
    "\n",
    "        while remaining_cities:\n",
    "            next_city = self.choose_next_city(tour[-1], remaining_cities)\n",
    "            tour.append(next_city)\n",
    "            remaining_cities.remove(next_city)\n",
    "\n",
    "        return tour\n",
    "\n",
    "    def choose_next_city(self, current_city, remaining_cities):\n",
    "        probabilities = self.get_transition_probabilities(current_city, remaining_cities)\n",
    "        return np.random.choice(list(remaining_cities), p=probabilities)\n",
    "\n",
    "    def get_transition_probabilities(self, current_city, remaining_cities):\n",
    "        pheromone = self.pheromone[current_city, list(remaining_cities)]\n",
    "        heuristic = 1 / self.distance_matrix[current_city, list(remaining_cities)]\n",
    "        probabilities = np.power(pheromone, self.alpha) * np.power(heuristic, self.beta)\n",
    "        probabilities /= np.sum(probabilities)\n",
    "        return probabilities\n",
    "\n",
    "    def update_pheromones(self, all_tours):\n",
    "        # Evaporate pheromones\n",
    "        self.pheromone *= (1 - self.rho)\n",
    "\n",
    "        # Deposit pheromones\n",
    "        for tour in all_tours:\n",
    "            tour_length = self.get_tour_length(tour)\n",
    "            for i in range(self.num_cities - 1):\n",
    "                city1, city2 = tour[i], tour[i+1]\n",
    "                self.pheromone[city1, city2] += self.q / tour_length\n",
    "                self.pheromone[city2, city1] += self.q / tour_length\n",
    "\n",
    "    def get_tour_length(self, tour):\n",
    "        tour_length = 0\n",
    "        for i in range(self.num_cities - 1):\n",
    "            city1, city2 = tour[i], tour[i+1]\n",
    "            tour_length += self.distance_matrix[city1, city2]\n",
    "        return tour_length"
   ]
  },
  {
   "cell_type": "code",
   "execution_count": 3,
   "metadata": {},
   "outputs": [],
   "source": [
    "# Example usage:\n",
    "# Define distance matrix (replace this with your own TSP data)\n",
    "distance_matrix = np.array([\n",
    "    [0, 10, 15, 20],\n",
    "    [10, 0, 35, 25],\n",
    "    [15, 35, 0, 30],\n",
    "    [20, 25, 30, 0]\n",
    "])\n",
    "\n",
    "# Parameters\n",
    "num_ants = 10\n",
    "num_iterations = 100\n",
    "alpha = 1\n",
    "beta = 2\n",
    "rho = 0.5\n",
    "q = 1"
   ]
  },
  {
   "cell_type": "code",
   "execution_count": 4,
   "metadata": {},
   "outputs": [
    {
     "name": "stdout",
     "output_type": "stream",
     "text": [
      "Best Tour: [0, 1, 3, 2]\n",
      "Best Tour Length: 65\n"
     ]
    }
   ],
   "source": [
    "# Initialize and run ACO\n",
    "aco = AntColony(distance_matrix, num_ants, num_iterations, alpha, beta, rho, q)\n",
    "best_tour, best_length = aco.run()\n",
    "print(\"Best Tour:\", best_tour)\n",
    "print(\"Best Tour Length:\", best_length)"
   ]
  },
  {
   "cell_type": "code",
   "execution_count": 5,
   "metadata": {},
   "outputs": [
    {
     "data": {
      "image/png": "[encoded data removed]",
      "text/plain": [
       "<Figure size 640x480 with 1 Axes>"
      ]
     },
     "metadata": {},
     "output_type": "display_data"
    }
   ],
   "source": [
    "# Plot the best tour\n",
    "def plot_tsp_solution(distance_matrix, tour):\n",
    "    x = np.arange(len(tour))\n",
    "    y = np.arange(len(tour))\n",
    "    plt.plot(x, y, 'ro')  # Plot cities as red dots\n",
    "\n",
    "    for i in range(len(tour) - 1):\n",
    "        city1, city2 = tour[i], tour[i+1]\n",
    "        plt.plot([x[city1], x[city2]], [y[city1], y[city2]], 'b-')  # Plot tour as blue lines\n",
    "    plt.plot([x[tour[-1]], x[tour[0]]], [y[tour[-1]], y[tour[0]]], 'b-')  # Close the tour loop\n",
    "    plt.show()\n",
    "\n",
    "plot_tsp_solution(distance_matrix, best_tour)"
   ]
  }
 ],
 "metadata": {
  "colab": {
   "provenance": []
  },
  "kernelspec": {
   "display_name": "Python 3 (ipykernel)",
   "language": "python",
   "name": "python3"
  },
  "language_info": {
   "codemirror_mode": {
    "name": "ipython",
    "version": 3
   },
   "file_extension": ".py",
   "mimetype": "text/x-python",
   "name": "python",
   "nbconvert_exporter": "python",
   "pygments_lexer": "ipython3",
   "version": "3.8.18"
  }
 },
 "nbformat": 4,
 "nbformat_minor": 1
}
