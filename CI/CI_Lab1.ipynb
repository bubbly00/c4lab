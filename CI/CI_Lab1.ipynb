{
 "cells": [
  {
   "cell_type": "code",
   "execution_count": 1,
   "metadata": {
    "id": "3R6IIujLV4oV"
   },
   "outputs": [],
   "source": [
    "import numpy as np"
   ]
  },
  {
   "cell_type": "code",
   "execution_count": 2,
   "metadata": {
    "id": "I-9xdggZWbjJ"
   },
   "outputs": [],
   "source": [
    "def initialize_antibodies(num_antibodies, num_features):\n",
    "    return np.random.rand(num_antibodies, num_features)\n",
    "\n",
    "def train_antibodies(antibodies, data, labels, num_iterations):\n",
    "    for _ in range(num_iterations):\n",
    "        for i in range(len(data)):\n",
    "            update_antibodies(antibodies, data[i], labels[i])\n",
    "\n",
    "def update_antibodies(antibodies, instance, label):\n",
    "    closest_antibody_idx = find_closest_antibody(antibodies, instance)\n",
    "    if label == 'damaged':\n",
    "        antibodies[closest_antibody_idx] *= 0.9\n",
    "    else:\n",
    "        antibodies[closest_antibody_idx] *= 1.1\n",
    "\n",
    "def find_closest_antibody(antibodies, instance):\n",
    "    distances = np.linalg.norm(antibodies - instance, axis=1)\n",
    "    return np.argmin(distances)"
   ]
  },
  {
   "cell_type": "code",
   "execution_count": 3,
   "metadata": {
    "id": "dZvkP-Z_Wbl6"
   },
   "outputs": [],
   "source": [
    "# Example usage:\n",
    "data = np.array([[0.2, 0.8], [0.4, 0.6], [0.6, 0.4], [0.8, 0.2]])\n",
    "labels = ['damaged', 'undamaged', 'undamaged', 'damaged']\n",
    "num_antibodies = 5\n",
    "num_features = 2\n",
    "num_iterations = 10\n",
    "\n",
    "antibodies = initialize_antibodies(num_antibodies, num_features)\n",
    "train_antibodies(antibodies, data, labels, num_iterations)"
   ]
  },
  {
   "cell_type": "code",
   "execution_count": 4,
   "metadata": {
    "colab": {
     "base_uri": "https://localhost:8080/"
    },
    "id": "USoIIrlRWhCU",
    "outputId": "6967b3f5-a2a1-42f0-bddf-b4b2cb4a1414"
   },
   "outputs": [
    {
     "name": "stdout",
     "output_type": "stream",
     "text": [
      "Closest antibody index: 2\n",
      "Classification result: undamaged\n"
     ]
    }
   ],
   "source": [
    "# After training, the antibodies can be used for classification of new instances\n",
    "new_instance = np.array([0.3, 0.7])\n",
    "\n",
    "# Finding the closest antibody index\n",
    "closest_antibody_idx = find_closest_antibody(antibodies, new_instance)\n",
    "print(\"Closest antibody index:\", closest_antibody_idx)\n",
    "\n",
    "# Fetching the label of the closest antibody\n",
    "closest_antibody_label = labels[closest_antibody_idx]\n",
    "print(\"Classification result:\", closest_antibody_label)"
   ]
  }
 ],
 "metadata": {
  "colab": {
   "provenance": []
  },
  "kernelspec": {
   "display_name": "Python 3 (ipykernel)",
   "language": "python",
   "name": "python3"
  },
  "language_info": {
   "codemirror_mode": {
    "name": "ipython",
    "version": 3
   },
   "file_extension": ".py",
   "mimetype": "text/x-python",
   "name": "python",
   "nbconvert_exporter": "python",
   "pygments_lexer": "ipython3",
   "version": "3.8.18"
  }
 },
 "nbformat": 4,
 "nbformat_minor": 1
}
