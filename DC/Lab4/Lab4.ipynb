{
 "cells": [
  {
   "cell_type": "markdown",
   "id": "45f852e6",
   "metadata": {},
   "source": [
    "Round-Robin load balancing algorithm in Python. This implementation will distribute incoming requests evenly among a list of servers."
   ]
  },
  {
   "cell_type": "code",
   "execution_count": 1,
   "id": "b5d6ed20",
   "metadata": {},
   "outputs": [
    {
     "name": "stdout",
     "output_type": "stream",
     "text": [
      "Request 1 routed to Server1\n",
      "Request 2 routed to Server2\n",
      "Request 3 routed to Server3\n",
      "Request 4 routed to Server1\n",
      "Request 5 routed to Server2\n",
      "Request 6 routed to Server3\n",
      "Request 7 routed to Server1\n",
      "Request 8 routed to Server2\n",
      "Request 9 routed to Server3\n",
      "Request 10 routed to Server1\n"
     ]
    }
   ],
   "source": [
    "class LoadBalancer:\n",
    "    def __init__(self, servers):\n",
    "        self.servers = servers\n",
    "        self.current_index = 0\n",
    "\n",
    "    def get_next_server(self):\n",
    "        server = self.servers[self.current_index]\n",
    "        self.current_index = (self.current_index + 1) % len(self.servers)\n",
    "        return server\n",
    "\n",
    "# Example usage\n",
    "if __name__ == \"__main__\":\n",
    "    # List of server addresses\n",
    "    servers = [\"Server1\", \"Server2\", \"Server3\"]\n",
    "\n",
    "    # Create a LoadBalancer instance with the list of servers\n",
    "    load_balancer = LoadBalancer(servers)\n",
    "\n",
    "    # Simulate incoming requests\n",
    "    num_requests = 10\n",
    "    for i in range(num_requests):\n",
    "        server = load_balancer.get_next_server()\n",
    "        print(f\"Request {i+1} routed to {server}\")\n"
   ]
  }
 ],
 "metadata": {
  "kernelspec": {
   "display_name": "Python 3 (ipykernel)",
   "language": "python",
   "name": "python3"
  },
  "language_info": {
   "codemirror_mode": {
    "name": "ipython",
    "version": 3
   },
   "file_extension": ".py",
   "mimetype": "text/x-python",
   "name": "python",
   "nbconvert_exporter": "python",
   "pygments_lexer": "ipython3",
   "version": "3.8.18"
  }
 },
 "nbformat": 4,
 "nbformat_minor": 5
}
