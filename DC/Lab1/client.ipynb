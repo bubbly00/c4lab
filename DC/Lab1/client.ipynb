{
 "cells": [
  {
   "cell_type": "code",
   "execution_count": 1,
   "id": "c7c6afb8",
   "metadata": {},
   "outputs": [
    {
     "name": "stdout",
     "output_type": "stream",
     "text": [
      "Enter an integer: 7\n",
      "Calculating factorial...\n",
      "Factorial: 5040\n"
     ]
    }
   ],
   "source": [
    "import xmlrpc.client\n",
    "\n",
    "def factorial_client(n):\n",
    "    server = xmlrpc.client.ServerProxy(\"http://localhost:8000/\")\n",
    "    result = server.calculate_factorial(n)\n",
    "    return result\n",
    "\n",
    "if __name__ == \"__main__\":\n",
    "    num = int(input(\"Enter an integer: \"))\n",
    "    print(\"Calculating factorial...\")\n",
    "    factorial = factorial_client(num)\n",
    "    print(\"Factorial:\", factorial)"
   ]
  }
 ],
 "metadata": {
  "kernelspec": {
   "display_name": "Python 3 (ipykernel)",
   "language": "python",
   "name": "python3"
  },
  "language_info": {
   "codemirror_mode": {
    "name": "ipython",
    "version": 3
   },
   "file_extension": ".py",
   "mimetype": "text/x-python",
   "name": "python",
   "nbconvert_exporter": "python",
   "pygments_lexer": "ipython3",
   "version": "3.8.18"
  }
 },
 "nbformat": 4,
 "nbformat_minor": 5
}
