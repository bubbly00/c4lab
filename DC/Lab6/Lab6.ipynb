{
 "cells": [
  {
   "cell_type": "code",
   "execution_count": null,
   "id": "081171d4",
   "metadata": {},
   "outputs": [],
   "source": [
    "import tensorflow_hub as hub\n",
    "import tensorflow as tf\n",
    "from matplotlib import pyplot as plt\n",
    "import numpy as np\n",
    "import cv2"
   ]
  },
  {
   "cell_type": "code",
   "execution_count": null,
   "id": "f4b58253",
   "metadata": {},
   "outputs": [],
   "source": [
    "model = hub.load('https://tfhub.dev/google/magenta/arbitrary-image-stylization-v1-256/2')\n",
    "\n",
    "def load_image(img_path):\n",
    "    img = tf.io.read_file(img_path)\n",
    "    img = tf.image.decode_image(img, channels=3)\n",
    "    img = tf.image.convert_image_dtype(img, tf.float32)\n",
    "    img = img[tf.newaxis, :]\n",
    "    return img\n",
    "\n",
    "content_image = load_image('logo.jpg')\n",
    "style_image = load_image('urban.jpg')\n",
    "\n",
    "content_image.shape\n",
    "\n",
    "plt.imshow(np.squeeze(style_image))\n",
    "plt.show()\n",
    "\n",
    "stylized_image = model(tf.constant(content_image), tf.constant(style_image))[0]\n",
    "\n",
    "plt.imshow(np.squeeze(stylized_image))\n",
    "plt.show()\n",
    "\n",
    "cv2.imwrite('generated_img.jpg', cv2.cvtColor(np.squeeze(stylized_image)*255, cv2.COLOR_BGR2RGB))"
   ]
  },
  {
   "cell_type": "code",
   "execution_count": null,
   "id": "0dc57f59",
   "metadata": {},
   "outputs": [],
   "source": [
    "# !pip install tensorflow-hub tensorflow --quiet\n",
    "# !pip install matplotlib --quiet\n",
    "# !pip install numpy --quiet\n",
    "# !pip install opencv-python-headless --quiet"
   ]
  }
 ],
 "metadata": {
  "kernelspec": {
   "display_name": "Python 3 (ipykernel)",
   "language": "python",
   "name": "python3"
  },
  "language_info": {
   "codemirror_mode": {
    "name": "ipython",
    "version": 3
   },
   "file_extension": ".py",
   "mimetype": "text/x-python",
   "name": "python",
   "nbconvert_exporter": "python",
   "pygments_lexer": "ipython3",
   "version": "3.8.18"
  }
 },
 "nbformat": 4,
 "nbformat_minor": 5
}
