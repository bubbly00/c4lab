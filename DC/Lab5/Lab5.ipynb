{
 "cells": [
  {
   "cell_type": "code",
   "execution_count": 1,
   "id": "794f9dac",
   "metadata": {},
   "outputs": [],
   "source": [
    "import random\n",
    "import math"
   ]
  },
  {
   "cell_type": "code",
   "execution_count": 2,
   "id": "01a77748",
   "metadata": {},
   "outputs": [],
   "source": [
    "# Define the function to be optimized\n",
    "def fitness_function(x):\n",
    "    return math.sin(x)\n",
    "\n",
    "# Initialize the population\n",
    "def initialize_population(population_size, search_space):\n",
    "    population = []\n",
    "    for _ in range(population_size):\n",
    "        chromosome = random.uniform(search_space[0], search_space[1])\n",
    "        population.append(chromosome)\n",
    "    return population\n",
    "\n",
    "# Clone operation: Make clones of the selected antibodies\n",
    "def clone(antibodies, clone_factor):\n",
    "    clones = []\n",
    "    for antibody in antibodies:\n",
    "        for _ in range(clone_factor):\n",
    "            clones.append(antibody)\n",
    "    return clones\n",
    "\n",
    "# Hypermutation: Introduce diversity in the clones\n",
    "def hypermutation(clones, mutation_rate, search_space):\n",
    "    mutated_clones = []\n",
    "    for clone in clones:\n",
    "        if random.random() < mutation_rate:\n",
    "            mutated_clone = clone + random.uniform(-0.1, 0.1)  # Adjust the mutation range as needed\n",
    "            mutated_clone = min(max(mutated_clone, search_space[0]), search_space[1])  # Ensure the clone stays within the search space\n",
    "            mutated_clones.append(mutated_clone)\n",
    "    return mutated_clones\n",
    "\n",
    "# Selection: Select top antibodies from the clones\n",
    "def select_top_antibodies(clones, num_top_antibodies, fitness_function):\n",
    "    clones.sort(key=lambda x: fitness_function(x), reverse=True)\n",
    "    return clones[:num_top_antibodies]\n",
    "\n",
    "# Main Clonal Selection Algorithm\n",
    "# Main Clonal Selection Algorithm\n",
    "def clonal_selection_algorithm(population_size, clone_factor, mutation_rate, num_generations, search_space):\n",
    "    # Initialize population\n",
    "    antibodies = initialize_population(population_size, search_space)\n",
    "    \n",
    "    for generation in range(num_generations):\n",
    "        # Clone\n",
    "        clones = clone(antibodies, clone_factor)\n",
    "        \n",
    "        # Hypermutation\n",
    "        mutated_clones = hypermutation(clones, mutation_rate, search_space)\n",
    "        \n",
    "        # Select top antibodies\n",
    "        antibodies = select_top_antibodies(mutated_clones, population_size, fitness_function)\n",
    "        \n",
    "        # Print the best antibody in each generation if antibodies exist\n",
    "        if antibodies:\n",
    "            print(f\"Generation {generation + 1}: Best Antibody = {antibodies[0]}, Fitness = {fitness_function(antibodies[0])}\")\n",
    "        else:\n",
    "            print(f\"Generation {generation + 1}: No antibodies survived the hypermutation step.\")"
   ]
  },
  {
   "cell_type": "code",
   "execution_count": 3,
   "id": "441a917f",
   "metadata": {},
   "outputs": [
    {
     "name": "stdout",
     "output_type": "stream",
     "text": [
      "Generation 1: Best Antibody = 7.81979542739376, Fitness = 0.9994157085480941\n",
      "Generation 2: Best Antibody = 7.778243836064783, Fitness = 0.9971332637280848\n",
      "Generation 3: Best Antibody = 7.72006201994509, Fitness = 0.9910461623533227\n",
      "Generation 4: Best Antibody = 7.793638197993214, Fitness = 0.9981798872701885\n",
      "Generation 5: Best Antibody = 7.856844720883959, Fitness = 0.9999959013694741\n",
      "Generation 6: Best Antibody = 7.897367705923843, Fitness = 0.9990589720063973\n",
      "Generation 7: Best Antibody = 7.87548915245171, Fitness = 0.9997687222399261\n",
      "Generation 8: Best Antibody = 7.818804618104061, Fitness = 0.9993813525751907\n",
      "Generation 9: Best Antibody = 7.838888231634479, Fitness = 0.9998860967652915\n",
      "Generation 10: Best Antibody = 7.911154851352419, Fitness = 0.9983660567630578\n",
      "Generation 11: Best Antibody = 7.883190786390113, Fitness = 0.9995734430361707\n",
      "Generation 12: Best Antibody = 7.845458628763682, Fitness = 0.9999636794109547\n",
      "Generation 13: Best Antibody = 7.8596629736633625, Fitness = 0.9999838612330799\n",
      "Generation 14: Best Antibody = 7.868589792933651, Fitness = 0.99989330274335\n",
      "Generation 15: Best Antibody = 7.797440536476895, Fitness = 0.9984019779407645\n",
      "Generation 16: Best Antibody = 7.90831278692934, Fitness = 0.9985244259386251\n",
      "Generation 17: Best Antibody = 7.879579486545844, Fitness = 0.9996723928611698\n",
      "Generation 18: Best Antibody = 7.880909816282207, Fitness = 0.9996374584069868\n",
      "Generation 19: Best Antibody = 7.844653242855755, Fitness = 0.999956490875079\n",
      "Generation 20: Best Antibody = 7.847699815871233, Fitness = 0.9999802694455416\n"
     ]
    }
   ],
   "source": [
    "# Define the search space\n",
    "search_space = (-10, 10)\n",
    "\n",
    "# Set algorithm parameters\n",
    "population_size = 100\n",
    "clone_factor = 5\n",
    "mutation_rate = 0.2\n",
    "num_generations = 20\n",
    "\n",
    "# Run the Clonal Selection Algorithm\n",
    "clonal_selection_algorithm(population_size, clone_factor, mutation_rate, num_generations, search_space)"
   ]
  }
 ],
 "metadata": {
  "kernelspec": {
   "display_name": "Python 3 (ipykernel)",
   "language": "python",
   "name": "python3"
  },
  "language_info": {
   "codemirror_mode": {
    "name": "ipython",
    "version": 3
   },
   "file_extension": ".py",
   "mimetype": "text/x-python",
   "name": "python",
   "nbconvert_exporter": "python",
   "pygments_lexer": "ipython3",
   "version": "3.8.18"
  }
 },
 "nbformat": 4,
 "nbformat_minor": 5
}
