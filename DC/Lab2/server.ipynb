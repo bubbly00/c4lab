{
 "cells": [
  {
   "cell_type": "code",
   "execution_count": 1,
   "id": "89b2661d",
   "metadata": {},
   "outputs": [],
   "source": [
    "!pip install Pyro4 --quiet"
   ]
  },
  {
   "cell_type": "code",
   "execution_count": null,
   "id": "9fd95ad1",
   "metadata": {},
   "outputs": [
    {
     "name": "stdout",
     "output_type": "stream",
     "text": [
      "Server is listening on port 9999\n",
      "Connected to ('127.0.0.1', 52170)\n"
     ]
    }
   ],
   "source": [
    "import socket\n",
    "\n",
    "def concatenate_strings(str1, str2):\n",
    "    return str1 + str2\n",
    "\n",
    "def server():\n",
    "    host = \"localhost\"\n",
    "    port = 9999\n",
    "\n",
    "    server_socket = socket.socket(socket.AF_INET, socket.SOCK_STREAM)\n",
    "    server_socket.bind((host, port))\n",
    "    server_socket.listen(1)\n",
    "\n",
    "    print(\"Server is listening on port\", port)\n",
    "\n",
    "    while True:\n",
    "        client_socket, addr = server_socket.accept()\n",
    "        print(\"Connected to\", addr)\n",
    "\n",
    "        data = client_socket.recv(1024).decode()\n",
    "        str1, str2 = data.split(\"|\")\n",
    "\n",
    "        result = concatenate_strings(str1, str2)\n",
    "        client_socket.send(result.encode())\n",
    "\n",
    "        client_socket.close()\n",
    "\n",
    "if __name__ == \"__main__\":\n",
    "    server()\n"
   ]
  }
 ],
 "metadata": {
  "kernelspec": {
   "display_name": "Python 3 (ipykernel)",
   "language": "python",
   "name": "python3"
  },
  "language_info": {
   "codemirror_mode": {
    "name": "ipython",
    "version": 3
   },
   "file_extension": ".py",
   "mimetype": "text/x-python",
   "name": "python",
   "nbconvert_exporter": "python",
   "pygments_lexer": "ipython3",
   "version": "3.8.18"
  }
 },
 "nbformat": 4,
 "nbformat_minor": 5
}
