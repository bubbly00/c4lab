{
 "cells": [
  {
   "cell_type": "code",
   "execution_count": 1,
   "id": "d58e4a92",
   "metadata": {},
   "outputs": [
    {
     "name": "stdout",
     "output_type": "stream",
     "text": [
      "Enter the first string: Abc\n",
      "Enter the second string: Xyz\n",
      "Concatenated string: AbcXyz\n"
     ]
    }
   ],
   "source": [
    "import socket\n",
    "\n",
    "def client():\n",
    "    host = \"localhost\"\n",
    "    port = 9999\n",
    "\n",
    "    str1 = input(\"Enter the first string: \")\n",
    "    str2 = input(\"Enter the second string: \")\n",
    "\n",
    "    client_socket = socket.socket(socket.AF_INET, socket.SOCK_STREAM)\n",
    "    client_socket.connect((host, port))\n",
    "\n",
    "    data = str1 + \"|\" + str2\n",
    "    client_socket.send(data.encode())\n",
    "\n",
    "    result = client_socket.recv(1024).decode()\n",
    "    print(\"Concatenated string:\", result)\n",
    "\n",
    "    client_socket.close()\n",
    "\n",
    "if __name__ == \"__main__\":\n",
    "    client()\n"
   ]
  }
 ],
 "metadata": {
  "kernelspec": {
   "display_name": "Python 3 (ipykernel)",
   "language": "python",
   "name": "python3"
  },
  "language_info": {
   "codemirror_mode": {
    "name": "ipython",
    "version": 3
   },
   "file_extension": ".py",
   "mimetype": "text/x-python",
   "name": "python",
   "nbconvert_exporter": "python",
   "pygments_lexer": "ipython3",
   "version": "3.8.18"
  }
 },
 "nbformat": 4,
 "nbformat_minor": 5
}
